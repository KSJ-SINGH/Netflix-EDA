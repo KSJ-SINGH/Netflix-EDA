{
 "cells": [],
 "metadata": {
  "interpreter": {
   "hash": "bd539d926d4e654fbecb752c5de5c627f68a9e48c1dbf8214e2784093e78bc0a"
  },
  "kernelspec": {
   "display_name": "Python 3.10.4 ('minimal_da')",
   "language": "python",
   "name": "python3"
  },
  "language_info": {
   "codemirror_mode": {
    "name": "ipython",
    "version": 3
   },
   "file_extension": ".py",
   "mimetype": "text/x-python",
   "name": "python",
   "nbconvert_exporter": "python",
   "pygments_lexer": "ipython3",
   "version": "3.8.13"
  },
  "orig_nbformat": 4
 },
 "nbformat": 4,
 "nbformat_minor": 2
}
